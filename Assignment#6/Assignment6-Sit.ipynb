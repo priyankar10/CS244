{
 "cells": [
  {
   "cell_type": "code",
   "execution_count": 523,
   "metadata": {
    "collapsed": true
   },
   "outputs": [],
   "source": [
    "import pandas as pd\n",
    "import matplotlib.pyplot as plt\n",
    "import numpy as np\n",
    "import scipy\n",
    "from scipy.signal import butter, lfilter"
   ]
  },
  {
   "cell_type": "code",
   "execution_count": 524,
   "metadata": {
    "collapsed": false
   },
   "outputs": [],
   "source": [
    "#Read data from CSV datafile\n",
    "#usecols: 0,1 for Sitting; 5,6: for Sleeping; 10,11 for Standing; 15,16 for Walking;\n",
    "dataset = pd.read_excel(\"data.xlsx\", usecols=[0,1]) \n",
    "array_data = np.array(dataset);\n",
    "array_data = array_data[:30000]"
   ]
  },
  {
   "cell_type": "code",
   "execution_count": 525,
   "metadata": {
    "collapsed": false
   },
   "outputs": [],
   "source": [
    "#x is time, y is RED\n",
    "x = np.array([i*0.02 for i in range(0,30000)]);\n",
    "y = array_data[:,1];"
   ]
  },
  {
   "cell_type": "code",
   "execution_count": 526,
   "metadata": {
    "collapsed": true
   },
   "outputs": [],
   "source": [
    "#Functions for Butterworth filter\n",
    "def butter_bandpass(lowcut, highcut, fs, order=5):\n",
    "    nyq = 0.5 * fs\n",
    "    low = lowcut / nyq\n",
    "    high = highcut / nyq\n",
    "    b, a = butter(order, [low, high], btype='band')\n",
    "    return b, a\n",
    "\n",
    "def butter_bandpass_filter(data, lowcut, highcut, fs, order=5):\n",
    "    b, a = butter_bandpass(lowcut, highcut, fs, order=order)\n",
    "    y = lfilter(b, a, data)\n",
    "    return y"
   ]
  },
  {
   "cell_type": "code",
   "execution_count": 527,
   "metadata": {
    "collapsed": false
   },
   "outputs": [],
   "source": [
    "#Filter RED data for Heart Rate (0.5-1.5 Hz)\n",
    "y_HR = butter_bandpass_filter(y[:], 0.5, 1.5, 50, order=5)"
   ]
  },
  {
   "cell_type": "code",
   "execution_count": 528,
   "metadata": {
    "collapsed": false,
    "scrolled": false
   },
   "outputs": [],
   "source": [
    "from scipy.signal import argrelmax, argrelextrema\n",
    "\n",
    "#Finding the index of peaks for heart rate\n",
    "peakindex_HR = argrelextrema(y_HR, np.greater)\n",
    "\n",
    "#Storing the peaks and corresponding times for Heart rate\n",
    "peaks_HR = [y_HR[i] for i in peakindex_HR]\n",
    "time_HR = [x[i] for i in peakindex_HR]"
   ]
  },
  {
   "cell_type": "code",
   "execution_count": 529,
   "metadata": {
    "collapsed": false
   },
   "outputs": [
    {
     "name": "stdout",
     "output_type": "stream",
     "text": [
      "Instantaneous Heart Rate\n",
      "[ 88.2353  71.4286  71.4286  85.7143  88.2353  83.3333  88.2353  90.9091\n",
      "  73.1707  76.9231  81.0811  90.9091  88.2353  90.9091  88.2353  73.1707\n",
      "  76.9231  75.      71.4286  96.7742  93.75    73.1707  75.      88.2353\n",
      "  85.7143  73.1707  71.4286  75.      90.9091  85.7143  75.      71.4286\n",
      "  85.7143  85.7143  81.0811  83.3333  71.4286  76.9231  71.4286  88.2353\n",
      "  73.1707  83.3333  71.4286  73.1707  96.7742  83.3333  73.1707  76.9231\n",
      "  83.3333  93.75    73.1707  88.2353  73.1707  73.1707  93.75    73.1707\n",
      "  78.9474  83.3333  81.0811  88.2353  76.9231  78.9474  71.4286  75.\n",
      "  73.1707  71.4286  96.7742  88.2353  76.9231  76.9231  75.      93.75\n",
      "  88.2353  76.9231  85.7143  71.4286  81.0811  83.3333  90.9091  83.3333\n",
      "  90.9091  75.      75.      85.7143  93.75    75.      76.9231  88.2353\n",
      "  78.9474  90.9091  73.1707  88.2353  93.75    76.9231  88.2353  96.7742\n",
      "  90.9091  96.7742  88.2353  96.7742  78.9474  88.2353  83.3333  78.9474\n",
      "  76.9231  76.9231  90.9091  85.7143  75.      88.2353  75.      78.9474\n",
      "  73.1707  83.3333  78.9474  73.1707  88.2353  78.9474  76.9231  90.9091\n",
      "  73.1707  76.9231  90.9091  71.4286  81.0811  93.75    81.0811  83.3333\n",
      "  73.1707  78.9474  81.0811  78.9474  71.4286  90.9091  75.      78.9474\n",
      "  78.9474  73.1707  83.3333  90.9091  88.2353  78.9474  81.0811  73.1707\n",
      "  85.7143  88.2353  76.9231  76.9231  96.7742  76.9231  81.0811  88.2353\n",
      "  76.9231  81.0811  85.7143  81.0811  88.2353  83.3333  75.      83.3333\n",
      "  78.9474  83.3333  81.0811  73.1707  85.7143  81.0811  71.4286  75.\n",
      "  81.0811  83.3333  90.9091  71.4286  83.3333  76.9231  71.4286  85.7143\n",
      "  93.75    88.2353  78.9474  93.75    83.3333  96.7742  85.7143  96.7742\n",
      "  78.9474  81.0811  90.9091  75.      90.9091  88.2353  76.9231  90.9091\n",
      "  83.3333  96.7742  96.7742  76.9231  81.0811  83.3333  96.7742  88.2353\n",
      "  88.2353  85.7143  85.7143  90.9091  96.7742  96.7742  83.3333  90.9091\n",
      "  93.75    83.3333  76.9231  76.9231  90.9091  83.3333  93.75    75.\n",
      "  88.2353  85.7143  81.0811  71.4286  73.1707  73.1707  76.9231  96.7742\n",
      "  83.3333  88.2353  90.9091  83.3333  76.9231  73.1707  93.75    96.7742\n",
      "  81.0811  81.0811  88.2353  78.9474  93.75    88.2353  88.2353  81.0811\n",
      "  85.7143  85.7143  73.1707  83.3333  78.9474  90.9091  81.0811  96.7742\n",
      "  93.75    78.9474  93.75    85.7143  88.2353  81.0811  88.2353  76.9231\n",
      "  88.2353  83.3333  90.9091  90.9091  93.75    78.9474  83.3333  88.2353\n",
      "  93.75    93.75    85.7143  96.7742  76.9231  90.9091  78.9474  83.3333\n",
      "  78.9474  90.9091  93.75    85.7143  83.3333  81.0811  81.0811  90.9091\n",
      "  88.2353  90.9091  93.75    88.2353  96.7742  88.2353  78.9474  83.3333\n",
      "  83.3333  73.1707  78.9474  78.9474  93.75    76.9231  81.0811  96.7742\n",
      "  83.3333  83.3333  93.75    81.0811  88.2353  88.2353  88.2353  81.0811\n",
      "  73.1707]\n",
      "Average Heart Rate: \n",
      "83.3700429535\n"
     ]
    }
   ],
   "source": [
    "#Calculating denominators for Heart Rate formula - distance between two peaks\n",
    "HR_diff = [peakindex_HR[0][i+1] - peakindex_HR[0][i] for i in range(len(peakindex_HR[0])-1)]\n",
    "#print HR_diff\n",
    "\n",
    "#Calculating heart rate\n",
    "HR_array = []\n",
    "for i in HR_diff:\n",
    "    HR_array.append(3000.0/i);    #Instantaneous Heart rate\n",
    "print \"Instantaneous Heart Rate\"\n",
    "\n",
    "HR_array = np.array(HR_array)\n",
    "HR_array_range = [HR_array[i] for i in range(len(HR_array)) if 70 < HR_array[i] and HR_array[i] < 100]\n",
    "print np.around(HR_array_range[:],4)\n",
    "print \"Average Heart Rate: \"\n",
    "print np.mean(HR_array_range)"
   ]
  },
  {
   "cell_type": "code",
   "execution_count": 530,
   "metadata": {
    "collapsed": true
   },
   "outputs": [],
   "source": [
    "#Filtering for Respiration rate\n",
    "y_R = butter_bandpass_filter(y[:], 0.2, 0.5, 50, order=5)\n",
    "\n",
    "#Finding index of peaks for Respiration rate\n",
    "peakindex_R = argrelextrema(y_R, np.greater)\n",
    "\n",
    "#Finding peaks and corresponding times for Respiration rate\n",
    "peaks_R = [y_R[i] for i in peakindex_R]\n",
    "time_R = [x[i] for i in peakindex_R]"
   ]
  },
  {
   "cell_type": "code",
   "execution_count": 531,
   "metadata": {
    "collapsed": false
   },
   "outputs": [
    {
     "name": "stdout",
     "output_type": "stream",
     "text": [
      "Instantaneous Respiration Rate: \n",
      "[ 17.0455  17.341   17.4419  17.2414  17.0455  16.9492  16.8539  17.1429\n",
      "  17.4419  16.7598  16.7598  16.6667  17.341   17.4419  17.1429  17.1429\n",
      "  17.0455  17.4419  17.1429  16.9492  17.1429  17.0455  17.341   16.9492\n",
      "  17.0455  17.4419  17.341   17.2414  17.341   17.0455  17.2414  17.1429\n",
      "  17.2414  16.9492  17.2414  17.341   17.341   16.9492  16.9492  17.341\n",
      "  17.2414  17.2414  17.0455  17.1429  17.341   17.1429  17.341   17.5439\n",
      "  17.2414  17.0455  17.2414  17.0455  16.8539  17.0455  17.341   17.2414\n",
      "  17.0455  17.341   17.0455  17.1429  17.1429  17.0455  17.1429  16.9492\n",
      "  17.1429  17.1429  17.341   17.341   17.4419  17.341   17.0455  17.1429\n",
      "  17.0455  17.1429  17.1429  17.2414  16.7598  17.4419  17.2414  17.4419\n",
      "  17.341   17.341   17.6471  17.341   17.1429  17.341   17.341   17.341\n",
      "  17.1429  17.2414  17.1429  16.8539  17.1429  17.1429  17.8571  17.4419\n",
      "  17.341   17.4419  17.0455  17.341   16.9492  17.6471  17.2414  17.341\n",
      "  17.341   16.9492  17.0455  17.0455  17.2414  17.0455  16.9492  17.1429\n",
      "  17.341   16.9492  16.9492  17.2414  17.1429  17.0455  16.9492  17.341\n",
      "  17.2414  17.1429  17.2414  16.9492  17.341   17.1429  17.5439  16.9492\n",
      "  17.2414  17.4419  17.1429  16.9492  17.341   16.9492  17.1429  17.4419\n",
      "  17.2414  16.9492  17.1429  17.1429  17.341   17.341   17.2414  17.0455\n",
      "  17.2414  17.341   17.4419  17.1429  17.1429  17.2414  17.5439  17.2414\n",
      "  17.0455  17.1429  17.1429  17.1429  17.341   17.341   17.2414  17.0455\n",
      "  17.0455  16.6667  16.8539  17.2414  17.1429  17.0455  16.9492  17.2414\n",
      "  17.341   17.0455]\n",
      "Average respiration rate:  17.1837\n"
     ]
    }
   ],
   "source": [
    "#print time_R\n",
    "\n",
    "#Finding respiration rate\n",
    "R_array = []\n",
    "R_diff = [time_R[0][i+1] - time_R[0][i] for i in range(len(time_R[0])-1)]\n",
    "for i in R_diff:\n",
    "    R_array.append(60/i)    #Instantaneous\n",
    "\n",
    "print \"Instantaneous Respiration Rate: \"\n",
    "print np.around(R_array[1:],4)    \n",
    "#Average\n",
    "print \"Average respiration rate: \", np.around(np.mean(R_array[1:]),4)"
   ]
  },
  {
   "cell_type": "code",
   "execution_count": 532,
   "metadata": {
    "collapsed": false
   },
   "outputs": [],
   "source": [
    "#SPO2 calculation\n",
    "\n",
    "#Already calculated max peaks for RED (peaks_HR, time_HR)\n",
    "#Applying filter\n",
    "y_RED = butter_bandpass_filter(y[:], 0.001, 1, 50, order=2)\n",
    "\n",
    "#Finding index of peaks for RED\n",
    "peakindex_RED = argrelextrema(y_RED, np.greater)\n",
    "\n",
    "#Calculating peaks and corresponding times for RED\n",
    "peaks_RED = [y_RED[i] for i in peakindex_RED]\n",
    "time_RED = [x[i] for i in peakindex_RED]\n",
    "\n",
    "#Finding min peaks index for RED\n",
    "peakindex_RED_min = argrelextrema(y_RED, np.less)\n",
    "peaks_RED_min = [y_RED[i] for i in peakindex_RED_min]\n",
    "time_RED_min = [x[i] for i in peakindex_RED_min]"
   ]
  },
  {
   "cell_type": "code",
   "execution_count": 533,
   "metadata": {
    "collapsed": false
   },
   "outputs": [],
   "source": [
    "#Interpolating min peaks for RED to find DC at time_HR\n",
    "DC_RED = np.interp(time_RED[0], time_RED_min[0], peaks_RED_min[0])\n",
    "\n",
    "#Calculating AC for RED values\n",
    "AC_RED = peaks_RED[0] - DC_RED"
   ]
  },
  {
   "cell_type": "code",
   "execution_count": 534,
   "metadata": {
    "collapsed": false
   },
   "outputs": [],
   "source": [
    "#z is IR values\n",
    "z = array_data[:,0];\n",
    "\n",
    "#Applying filter\n",
    "z_IR = butter_bandpass_filter(z[:], 0.001, 1, 50, order=2)\n",
    "\n",
    "#Finding index of peaks for IR\n",
    "peakindex_IR = argrelextrema(z_IR, np.greater)\n",
    "\n",
    "#Calculating peaks and corresponding times for IR\n",
    "peaks_IR = [z_IR[i] for i in peakindex_IR]\n",
    "time_IR = [x[i] for i in peakindex_IR]\n",
    "\n",
    "#Finding index of min peaks for IR\n",
    "peakindex_IR_min = argrelextrema(z_IR, np.less)\n",
    "\n",
    "#Finding peaks and corresponding times for min IR peaks\n",
    "peaks_IR_min = [z_IR[i] for i in peakindex_IR_min]\n",
    "time_IR_min = [x[i] for i in peakindex_IR_min]"
   ]
  },
  {
   "cell_type": "code",
   "execution_count": 535,
   "metadata": {
    "collapsed": false
   },
   "outputs": [],
   "source": [
    "#Interpolating min peaks for RED to find DC at time_IR\n",
    "DC_IR = np.interp(time_IR[0], time_IR_min[0], peaks_IR_min[0])\n",
    "\n",
    "#Calculating AC for IR values\n",
    "AC_IR = peaks_IR[0] - DC_IR"
   ]
  },
  {
   "cell_type": "code",
   "execution_count": 536,
   "metadata": {
    "collapsed": false
   },
   "outputs": [],
   "source": [
    "#Calculating ratio average\n",
    "#Finding if RED/ IR has lesser number of peaks\n",
    "length = 0\n",
    "if len(AC_RED) < len(DC_IR):\n",
    "    length = len(AC_RED)\n",
    "else:\n",
    "    length = len(DC_IR)\n",
    "        \n",
    "num = AC_RED[0:length]*DC_IR[0:length]\n",
    "den = AC_IR[0:length]*DC_RED[0:length]\n",
    "\n",
    "ratio_avg = num/den"
   ]
  },
  {
   "cell_type": "code",
   "execution_count": 537,
   "metadata": {
    "collapsed": false
   },
   "outputs": [],
   "source": [
    "#print ratio_avg"
   ]
  },
  {
   "cell_type": "code",
   "execution_count": 538,
   "metadata": {
    "collapsed": false
   },
   "outputs": [
    {
     "name": "stdout",
     "output_type": "stream",
     "text": [
      "Instantanous SPO2: \n",
      "[ 94.5519  99.0172  98.2377  96.405   97.321   97.909   95.0869  95.9946\n",
      "  95.2438  98.2976  90.3369  97.3755  94.3526  95.1816  97.5536  99.0849\n",
      "  98.6773  98.8656  97.8054  94.4497  98.6331  93.5825  90.922   98.3695\n",
      "  98.9886  97.9639  97.3596  95.6962  96.6879  97.95    97.5225  94.095\n",
      "  95.3006  95.4873  94.9243  95.5232  98.123   93.3651  96.797   96.9171\n",
      "  97.1947  94.3328  94.3857  94.2047  93.8614  94.9286  99.1049  98.5777\n",
      "  91.4701  97.04    92.5083  94.9766  99.075   99.1111  95.3939  97.9328\n",
      "  97.7502  94.7988  96.5552  97.199   97.742   99.0842  98.1992  96.9746\n",
      "  94.5684  92.1387  98.3373  94.0378  98.9853  96.4383  99.1111  98.0108\n",
      "  98.5814  98.9698  95.399   95.1613  98.9358  97.3111  97.961   98.7056\n",
      "  99.1083  98.9401  94.2062  95.6702  95.1628  99.1054  97.4368  98.2206\n",
      "  97.8176  98.9109  97.0671  94.4585  97.0638  94.2949  98.0013  99.1115\n",
      "  97.99    99.066   95.8325  99.0173  99.01    97.4004  99.0908  94.4726\n",
      "  97.2182  98.0766  98.8567  98.519   96.9972  97.957   91.184   94.2178\n",
      "  94.4255  94.0768  98.9791  99.0991  96.574   99.1012  95.2027  90.9311\n",
      "  98.26    99.103   94.6315  99.1034  99.0232  96.8125  97.7607  99.0303\n",
      "  96.1891  99.0972  98.8573  99.1094  98.7456  95.7888  94.4887  99.1075\n",
      "  96.5258  98.0579  99.06    91.2001  97.6851  97.9317  93.2696  99.1119\n",
      "  94.2568  90.5965  98.6214  98.926   95.0245  98.9619  98.2175  98.1649\n",
      "  97.9837  97.6389  98.9277  91.4876  98.9799  94.1709  98.6265  96.5761\n",
      "  95.81    96.9767  97.6724  99.1068  99.0863  99.0264  99.0331  98.8595\n",
      "  98.2268  98.8266  99.0481  98.2623  97.8975  97.2253  95.2973  94.4296\n",
      "  97.3578  94.5205  98.5653  99.0886  98.9688  96.0366  96.5238  94.0673\n",
      "  93.9556  95.2966  97.0076  99.0993  96.2964  99.1118  96.0664  96.4038\n",
      "  94.1914  98.0652  95.3816  99.1112  95.1668  99.0967  92.4823  90.73\n",
      "  98.6039  97.9143  98.2216  99.0284  98.7624  98.2987  90.5718  97.992\n",
      "  96.7996  96.9251  94.3328  99.1098  94.089   98.0075  97.9201  92.7088]\n",
      "Average SPO2:  96.8086\n"
     ]
    }
   ],
   "source": [
    "spo2 = -45.060*ratio_avg*ratio_avg+30.354*ratio_avg+94.\n",
    "print \"Instantanous SPO2: \"\n",
    "spo2_range = [spo2[i] for i in range(len(spo2)) if spo2[i]>90 and spo2[i]<100]\n",
    "print np.around(spo2_range[:],4)\n",
    "print \"Average SPO2: \", np.around(np.mean(spo2_range),4)"
   ]
  },
  {
   "cell_type": "code",
   "execution_count": 539,
   "metadata": {
    "collapsed": false
   },
   "outputs": [
    {
     "data": {
      "image/png": "[encoded data removed]",
      "text/plain": [
       "<matplotlib.figure.Figure at 0x117e5470>"
      ]
     },
     "metadata": {},
     "output_type": "display_data"
    }
   ],
   "source": [
    "x_index = [i for i in range(len(HR_array_range))]\n",
    "plt.plot(x_index, HR_array_range)\n",
    "x_index = [i for i in range(len(R_array)-1)]\n",
    "plt.plot(x_index, R_array[1:],'r')\n",
    "x_index = [i for i in range(len(spo2_range))]\n",
    "plt.plot(x_index, spo2_range, 'g')\n",
    "plt.show()"
   ]
  },
  {
   "cell_type": "code",
   "execution_count": null,
   "metadata": {
    "collapsed": true
   },
   "outputs": [],
   "source": []
  }
 ],
 "metadata": {
  "anaconda-cloud": {},
  "kernelspec": {
   "display_name": "Python [conda root]",
   "language": "python",
   "name": "conda-root-py"
  },
  "language_info": {
   "codemirror_mode": {
    "name": "ipython",
    "version": 2
   },
   "file_extension": ".py",
   "mimetype": "text/x-python",
   "name": "python",
   "nbconvert_exporter": "python",
   "pygments_lexer": "ipython2",
   "version": "2.7.12"
  }
 },
 "nbformat": 4,
 "nbformat_minor": 1
}
