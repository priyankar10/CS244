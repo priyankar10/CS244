{
 "cells": [
  {
   "cell_type": "code",
   "execution_count": 1,
   "metadata": {
    "collapsed": true
   },
   "outputs": [],
   "source": [
    "import pandas as pd\n",
    "import matplotlib.pyplot as plt\n",
    "import numpy as np\n",
    "import scipy\n",
    "from scipy.signal import butter, lfilter"
   ]
  },
  {
   "cell_type": "code",
   "execution_count": 2,
   "metadata": {
    "collapsed": false
   },
   "outputs": [],
   "source": [
    "#Read data from CSV datafile\n",
    "dataset = pd.read_excel(\"data.xlsx\", usecols=[15,16]) \n",
    "array_data = np.array(dataset);\n",
    "array_data = array_data[:30000]"
   ]
  },
  {
   "cell_type": "code",
   "execution_count": 3,
   "metadata": {
    "collapsed": false
   },
   "outputs": [],
   "source": [
    "#x is time, y is RED\n",
    "x = np.array([i*0.02 for i in range(0,30000)]);\n",
    "y = array_data[:,1];"
   ]
  },
  {
   "cell_type": "code",
   "execution_count": 4,
   "metadata": {
    "collapsed": true
   },
   "outputs": [],
   "source": [
    "#Functions for Butterworth filter\n",
    "def butter_bandpass(lowcut, highcut, fs, order=5):\n",
    "    nyq = 0.5 * fs\n",
    "    low = lowcut / nyq\n",
    "    high = highcut / nyq\n",
    "    b, a = butter(order, [low, high], btype='band')\n",
    "    return b, a\n",
    "\n",
    "def butter_bandpass_filter(data, lowcut, highcut, fs, order=5):\n",
    "    b, a = butter_bandpass(lowcut, highcut, fs, order=order)\n",
    "    y = lfilter(b, a, data)\n",
    "    return y"
   ]
  },
  {
   "cell_type": "code",
   "execution_count": 5,
   "metadata": {
    "collapsed": false
   },
   "outputs": [],
   "source": [
    "#Filter RED data for Heart Rate (0.5-2 Hz)\n",
    "y_HR = butter_bandpass_filter(y[:], 0.6, 1.5,50, order=5)"
   ]
  },
  {
   "cell_type": "code",
   "execution_count": 6,
   "metadata": {
    "collapsed": false,
    "scrolled": false
   },
   "outputs": [],
   "source": [
    "from scipy.signal import argrelmax, argrelextrema\n",
    "\n",
    "#Finding the index of peaks for heart rate\n",
    "peakindex_HR = argrelextrema(y_HR, np.greater)\n",
    "\n",
    "#Storing the peaks and corresponding times for Heart rate\n",
    "peaks_HR = [y_HR[i] for i in peakindex_HR]\n",
    "time_HR = [x[i] for i in peakindex_HR]"
   ]
  },
  {
   "cell_type": "code",
   "execution_count": 7,
   "metadata": {
    "collapsed": false
   },
   "outputs": [
    {
     "name": "stdout",
     "output_type": "stream",
     "text": [
      "Average Heart Rate:  73.0951\n",
      "Instantaneous Heart Rate\n",
      "Percentage of data considered:  71.0294117647\n",
      "Average of range considered:  71.0507691248\n"
     ]
    }
   ],
   "source": [
    "#Calculating denominators for Heart Rate formula - distance between two peaks\n",
    "HR_diff = [peakindex_HR[0][i+1] - peakindex_HR[0][i] for i in range(len(peakindex_HR[0])-1)]\n",
    "#print HR_diff\n",
    "\n",
    "#Calculating heart rate\n",
    "HR_array = []\n",
    "for i in HR_diff:\n",
    "    HR_array.append(3000.0/i);    #Instantaneous Heart rate\n",
    "\n",
    "#Heart rate\n",
    "print \"Average Heart Rate: \", np.around(np.mean(HR_array[2:]),4)\n",
    "\n",
    "HR_range = [elem for elem in np.array(HR_array) if elem > 55 and elem<95]\n",
    "print \"Instantaneous Heart Rate\"\n",
    "#print HR_range\n",
    "print \"Percentage of data considered: \",100*float(len(HR_range))/len(HR_array)\n",
    "print \"Average of range considered: \",np.mean(HR_range)"
   ]
  },
  {
   "cell_type": "code",
   "execution_count": 8,
   "metadata": {
    "collapsed": true
   },
   "outputs": [],
   "source": [
    "#Filtering for Respiration rate\n",
    "y_R = butter_bandpass_filter(y[:], 0.2, 0.5, 50, order=5)\n",
    "\n",
    "#Finding index of peaks for Respiration rate\n",
    "peakindex_R = argrelextrema(y_R, np.greater)\n",
    "\n",
    "#Finding peaks and corresponding times for Respiration rate\n",
    "peaks_R = [y_R[i] for i in peakindex_R]\n",
    "time_R = [x[i] for i in peakindex_R]"
   ]
  },
  {
   "cell_type": "code",
   "execution_count": 9,
   "metadata": {
    "collapsed": false
   },
   "outputs": [
    {
     "name": "stdout",
     "output_type": "stream",
     "text": [
      "Instantaneous Respiration Rate: \n",
      "Average respiration rate:  17.2031\n"
     ]
    }
   ],
   "source": [
    "#print time_R\n",
    "\n",
    "#Finding respiration rate\n",
    "R_array = []\n",
    "R_diff = [time_R[0][i+1] - time_R[0][i] for i in range(len(time_R[0])-1)]\n",
    "for i in R_diff:\n",
    "    R_array.append(60/i)    #Instantaneous\n",
    "\n",
    "print \"Instantaneous Respiration Rate: \"\n",
    "#print np.around(R_array[1:],4)    \n",
    "#Average\n",
    "print \"Average respiration rate: \", np.around(np.mean(R_array[1:]),4)"
   ]
  },
  {
   "cell_type": "code",
   "execution_count": 10,
   "metadata": {
    "collapsed": false
   },
   "outputs": [],
   "source": [
    "#SPO2 calculation\n",
    "\n",
    "#Already calculated max peaks for RED (peaks_HR, time_HR)\n",
    "#Applying filter\n",
    "upper = 1.5\n",
    "order = 2\n",
    "y_RED = butter_bandpass_filter(y[:], 0.001, upper, 50, order)\n",
    "\n",
    "#Finding index of peaks for RED\n",
    "peakindex_RED = argrelextrema(y_RED, np.greater)\n",
    "\n",
    "#Calculating peaks and corresponding times for RED\n",
    "peaks_RED = [y_RED[i] for i in peakindex_RED]\n",
    "time_RED = [x[i] for i in peakindex_RED]\n",
    "\n",
    "#Finding min peaks index for RED\n",
    "peakindex_RED_min = argrelextrema(y_RED, np.less)\n",
    "peaks_RED_min = [y_RED[i] for i in peakindex_RED_min]\n",
    "time_RED_min = [x[i] for i in peakindex_RED_min]"
   ]
  },
  {
   "cell_type": "code",
   "execution_count": 11,
   "metadata": {
    "collapsed": false
   },
   "outputs": [],
   "source": [
    "#Interpolating min peaks for RED to find DC at time_HR\n",
    "DC_RED = np.interp(time_RED[0], time_RED_min[0], peaks_RED_min[0])\n",
    "\n",
    "#Calculating AC for RED values\n",
    "AC_RED = peaks_RED[0] - DC_RED"
   ]
  },
  {
   "cell_type": "code",
   "execution_count": 12,
   "metadata": {
    "collapsed": false
   },
   "outputs": [],
   "source": [
    "#z is IR values\n",
    "z = array_data[:,0];\n",
    "\n",
    "#Applying filter\n",
    "z_IR = butter_bandpass_filter(z[:], 0.001, upper, 50, order)\n",
    "\n",
    "#Finding index of peaks for IR\n",
    "peakindex_IR = argrelextrema(z_IR, np.greater)\n",
    "\n",
    "#Calculating peaks and corresponding times for IR\n",
    "peaks_IR = [z_IR[i] for i in peakindex_IR]\n",
    "time_IR = [x[i] for i in peakindex_IR]\n",
    "\n",
    "#Finding index of min peaks for IR\n",
    "peakindex_IR_min = argrelextrema(z_IR, np.less)\n",
    "\n",
    "#Finding peaks and corresponding times for min IR peaks\n",
    "peaks_IR_min = [z_IR[i] for i in peakindex_IR_min]\n",
    "time_IR_min = [x[i] for i in peakindex_IR_min]"
   ]
  },
  {
   "cell_type": "code",
   "execution_count": 13,
   "metadata": {
    "collapsed": false
   },
   "outputs": [],
   "source": [
    "#Interpolating min peaks for RED to find DC at time_IR\n",
    "DC_IR = np.interp(time_IR[0], time_IR_min[0], peaks_IR_min[0])\n",
    "\n",
    "#Calculating AC for IR values\n",
    "AC_IR = peaks_IR[0] - DC_IR"
   ]
  },
  {
   "cell_type": "code",
   "execution_count": 14,
   "metadata": {
    "collapsed": false
   },
   "outputs": [],
   "source": [
    "#Calculating ratio average\n",
    "#Finding if RED/ IR has lesser number of peaks\n",
    "length = 0\n",
    "if len(AC_RED) < len(DC_IR):\n",
    "    length = len(AC_RED)\n",
    "else:\n",
    "    length = len(DC_IR)\n",
    "        \n",
    "num = AC_RED[0:length]*DC_IR[0:length]\n",
    "den = AC_IR[0:length]*DC_RED[0:length]\n",
    "\n",
    "ratio_avg = num/den\n",
    "#ratio_avg = den/num"
   ]
  },
  {
   "cell_type": "code",
   "execution_count": 15,
   "metadata": {
    "collapsed": false
   },
   "outputs": [
    {
     "name": "stdout",
     "output_type": "stream",
     "text": [
      "Instantaneous SPO2: \n",
      "Percentage of data considered:  63.8926174497\n",
      "Average of SPO2 considered:  97.4343048299\n"
     ]
    }
   ],
   "source": [
    "spo2 = -45.060*ratio_avg*ratio_avg+30.354*ratio_avg+94.845\n",
    "\n",
    "spo2_range = [elem for elem in np.array(spo2) if elem > 90 and elem < 100]\n",
    "print \"Instantaneous SPO2: \"\n",
    "#print spo2_range\n",
    "print \"Percentage of data considered: \",100*float(len(spo2_range))/len(spo2)\n",
    "print \"Average of SPO2 considered: \",np.mean(spo2_range)"
   ]
  },
  {
   "cell_type": "code",
   "execution_count": 16,
   "metadata": {
    "collapsed": false
   },
   "outputs": [
    {
     "data": {
      "image/png": "[encoded data removed]",
      "text/plain": [
       "<matplotlib.figure.Figure at 0xa481ba8>"
      ]
     },
     "metadata": {},
     "output_type": "display_data"
    }
   ],
   "source": [
    "x_range = [i for i in range(len(HR_range))]\n",
    "plt.plot(x_range, HR_range, 'r')\n",
    "\n",
    "x_range = [i for i in range(len(R_array)-1)]\n",
    "plt.plot(x_range, R_array[1:], 'g')\n",
    "\n",
    "x_range = [i for i in range(len(spo2_range))]\n",
    "plt.plot(x_range, spo2_range, 'b')\n",
    "\n",
    "plt.show()"
   ]
  }
 ],
 "metadata": {
  "anaconda-cloud": {},
  "kernelspec": {
   "display_name": "Python [conda root]",
   "language": "python",
   "name": "conda-root-py"
  },
  "language_info": {
   "codemirror_mode": {
    "name": "ipython",
    "version": 2
   },
   "file_extension": ".py",
   "mimetype": "text/x-python",
   "name": "python",
   "nbconvert_exporter": "python",
   "pygments_lexer": "ipython2",
   "version": "2.7.12"
  }
 },
 "nbformat": 4,
 "nbformat_minor": 1
}
